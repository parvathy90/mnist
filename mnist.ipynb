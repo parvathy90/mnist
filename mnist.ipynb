{
 "cells": [
  {
   "cell_type": "markdown",
   "metadata": {
    "papermill": {
     "duration": 0.035313,
     "end_time": "2021-08-03T02:53:47.123826",
     "exception": false,
     "start_time": "2021-08-03T02:53:47.088513",
     "status": "completed"
    },
    "tags": []
   },
   "source": [
    "<img src=\"https://i.imgur.com/BzoPAKJ.png\" width=\"100%\" height=\"30%\">"
   ]
  },
  {
   "cell_type": "markdown",
   "metadata": {
    "papermill": {
     "duration": 0.032732,
     "end_time": "2021-08-03T02:53:47.189885",
     "exception": false,
     "start_time": "2021-08-03T02:53:47.157153",
     "status": "completed"
    },
    "tags": []
   },
   "source": [
    "## Fashion MNIST - A beginner's guide.. 📝\n",
    "\n",
    "*This notebook covers basic steps, a beginner should take while approaching an image classification problem.<br>\n",
    "We begin by building a baseline Neural Network model, then progressively adapts techniques to improve the model evaluation metric.*\n",
    "\n",
    "**While approaching any machine learning task, there are 3 key steps to be defined**:\n",
    "\n",
    "1. ```Understanding the problem/data```\n",
    "2. ```Defining the model```\n",
    "3. ```Choosing the evaluation metric```\n",
    "\n",
    "*Building a baseline model gives a solid working framework for the solution. It then becomes much easier to adapt other techniques and iterate throught the framework.*\n",
    "\n",
    "## Dataset 💽\n",
    "\n",
    "*Fashion-MNIST is a dataset of Zalando's article images—consisting of a training set of 60,000 examples and a test set of 10,000 examples. <br>Each example is a 28x28 grayscale image, associated with a label from 10 classes.*\n",
    "\n",
    "📖 **Data description**\n",
    " - ```Each row is a separate image```\n",
    " - ```Column 1 is the class label.```\n",
    " - ```Remaining columns are pixel numbers (784 total).```\n",
    " - ```Each value is the darkness of the pixel (1 to 255)```\n",
    " \n",
    "🏷️ **Labels**\n",
    " - ```0``` T-shirt/top\n",
    " - ```1``` Trouser\n",
    " - ```2``` Pullover\n",
    " - ```3``` Dress\n",
    " - ```4``` Coat\n",
    " - ```5``` Sandal\n",
    " - ```6``` Shirt\n",
    " - ```7``` Sneaker\n",
    " - ```8``` Bag\n",
    " - ```9``` Ankle boot\n",
    " \n",
    "🎯 **Goal:** To build an algorithm to accurately predict the clothing category from images. \n",
    "\n",
    "**How to read this notebook?** \n",
    "I have added a brief explanation of the data transformation and modelling techniques used in a **Why**❓ section before each code block. <br>This will help understand the need for such a transformation. \n",
    "In addition, I have tried to explain each line of code with comments next to the syntax."
   ]
  },
  {
   "cell_type": "code",
   "execution_count": 1,
   "metadata": {
    "execution": {
     "iopub.execute_input": "2021-08-03T02:53:47.270747Z",
     "iopub.status.busy": "2021-08-03T02:53:47.269333Z",
     "iopub.status.idle": "2021-08-03T02:53:51.891241Z",
     "shell.execute_reply": "2021-08-03T02:53:51.891824Z",
     "shell.execute_reply.started": "2021-07-22T13:34:16.166109Z"
    },
    "papermill": {
     "duration": 4.669155,
     "end_time": "2021-08-03T02:53:51.892127",
     "exception": false,
     "start_time": "2021-08-03T02:53:47.222972",
     "status": "completed"
    },
    "tags": []
   },
   "outputs": [],
   "source": [
    "import os\n",
    "\n",
    "import numpy as np # linear algebra\n",
    "import pandas as pd # data processing, CSV file I/O (e.g. pd.read_csv)\n",
    "\n",
    "from tensorflow.keras import Sequential\n",
    "from tensorflow.keras.layers import Flatten, Dense, Conv2D, MaxPooling2D, Dropout\n",
    "from tensorflow.keras.losses import SparseCategoricalCrossentropy\n",
    "from tensorflow.keras.utils import plot_model\n",
    "\n",
    "from sklearn.model_selection import train_test_split\n",
    "\n",
    "import matplotlib.pyplot as plt\n",
    "#%matplotlib inline"
   ]
  },
  {
   "cell_type": "markdown",
   "metadata": {
    "execution": {
     "iopub.execute_input": "2021-07-14T16:33:19.944268Z",
     "iopub.status.busy": "2021-07-14T16:33:19.943866Z",
     "iopub.status.idle": "2021-07-14T16:33:19.948678Z",
     "shell.execute_reply": "2021-07-14T16:33:19.947735Z",
     "shell.execute_reply.started": "2021-07-14T16:33:19.944231Z"
    },
    "papermill": {
     "duration": 0.034237,
     "end_time": "2021-08-03T02:53:51.963927",
     "exception": false,
     "start_time": "2021-08-03T02:53:51.929690",
     "status": "completed"
    },
    "tags": []
   },
   "source": [
    "#### Helper Functions"
   ]
  },
  {
   "cell_type": "code",
   "execution_count": 2,
   "metadata": {
    "execution": {
     "iopub.execute_input": "2021-08-03T02:53:52.047812Z",
     "iopub.status.busy": "2021-08-03T02:53:52.046976Z",
     "iopub.status.idle": "2021-08-03T02:53:52.051997Z",
     "shell.execute_reply": "2021-08-03T02:53:52.050800Z",
     "shell.execute_reply.started": "2021-07-22T12:20:24.531024Z"
    },
    "papermill": {
     "duration": 0.051357,
     "end_time": "2021-08-03T02:53:52.052171",
     "exception": false,
     "start_time": "2021-08-03T02:53:52.000814",
     "status": "completed"
    },
    "tags": []
   },
   "outputs": [],
   "source": [
    "def predict_n_validate_individual_samples(index):\n",
    "    plt.figure()\n",
    "    plt.imshow(test_x[index].reshape(28, 28))\n",
    "    plt.xticks([])\n",
    "    plt.yticks([])\n",
    "    plt.grid(False)\n",
    "    plt.show()\n",
    "    print(\"Actual Value: \", class_names[test_y[index]])\n",
    "    print(\"Model Prediction: \", class_names[np.argmax(model.predict(test_x[index].reshape(1, 28, 28, 1)))])\n",
    "    \n",
    "# code to visualize individual sample\n",
    "def plot_sample(df, index):\n",
    "    plt.figure()\n",
    "    plt.imshow(df[index].reshape(28, 28))\n",
    "    plt.colorbar()\n",
    "    plt.grid(False)\n",
    "    plt.show()"
   ]
  },
  {
   "cell_type": "code",
   "execution_count": 4,
   "metadata": {
    "execution": {
     "iopub.execute_input": "2021-08-03T02:53:52.133311Z",
     "iopub.status.busy": "2021-08-03T02:53:52.132506Z",
     "iopub.status.idle": "2021-08-03T02:53:58.803205Z",
     "shell.execute_reply": "2021-08-03T02:53:58.803787Z",
     "shell.execute_reply.started": "2021-07-22T12:20:24.908802Z"
    },
    "papermill": {
     "duration": 6.71667,
     "end_time": "2021-08-03T02:53:58.803965",
     "exception": false,
     "start_time": "2021-08-03T02:53:52.087295",
     "status": "completed"
    },
    "tags": []
   },
   "outputs": [
    {
     "name": "stdout",
     "output_type": "stream",
     "text": [
      "(60000, 785)\n",
      "(10000, 785)\n"
     ]
    }
   ],
   "source": [
    "train_images = pd.read_csv(r'C:\\Users\\pspar\\Downloads\\archive (2)\\fashion-mnist_train.csv')\n",
    "test_images = pd.read_csv(r'C:\\Users\\pspar\\Downloads\\archive (2)\\fashion-mnist_test.csv')\n",
    "\n",
    "print(train_images.shape)\n",
    "print(test_images.shape)"
   ]
  },
  {
   "cell_type": "markdown",
   "metadata": {
    "papermill": {
     "duration": 0.022506,
     "end_time": "2021-08-03T02:53:58.851527",
     "exception": false,
     "start_time": "2021-08-03T02:53:58.829021",
     "status": "completed"
    },
    "tags": []
   },
   "source": [
    "**Check the distribution of target column in the dataset**\n",
    "\n",
    "**Why**❓\n",
    "\n",
    "- *Checking the distribution of the target column helps us better understand the data. In real world, datasets are often skewed, that is, <br>there will be an ```unequal distribution of samples``` which adversely affects the learning and model performance. In such cases, <br>the model will tend to overfit to a particular set of samples. Techniques like undersampling, oversampling, smote-analysis, etc. <br>help handle such scenarios, however we will not discuss it in detail.*\n",
    "- *It also helps define ```the evaluation metric``` to be considered while analyzing the performance.*"
   ]
  },
  {
   "cell_type": "code",
   "execution_count": 5,
   "metadata": {
    "execution": {
     "iopub.execute_input": "2021-08-03T02:53:58.905148Z",
     "iopub.status.busy": "2021-08-03T02:53:58.904528Z",
     "iopub.status.idle": "2021-08-03T02:53:59.097130Z",
     "shell.execute_reply": "2021-08-03T02:53:59.097536Z",
     "shell.execute_reply.started": "2021-07-22T12:20:32.814839Z"
    },
    "papermill": {
     "duration": 0.223122,
     "end_time": "2021-08-03T02:53:59.097673",
     "exception": false,
     "start_time": "2021-08-03T02:53:58.874551",
     "status": "completed"
    },
    "tags": []
   },
   "outputs": [
    {
     "data": {
      "image/png": "[encoded data removed]",
      "text/plain": [
       "<Figure size 432x288 with 1 Axes>"
      ]
     },
     "metadata": {
      "needs_background": "light"
     },
     "output_type": "display_data"
    }
   ],
   "source": [
    "train_images.label.value_counts().plot(kind='bar')\n",
    "plt.show()"
   ]
  },
  {
   "cell_type": "markdown",
   "metadata": {
    "papermill": {
     "duration": 0.024323,
     "end_time": "2021-08-03T02:53:59.144652",
     "exception": false,
     "start_time": "2021-08-03T02:53:59.120329",
     "status": "completed"
    },
    "tags": []
   },
   "source": [
    "✔️The above plot shows that the data is well sampled. There is equal distribution of each class.\n",
    "Thus we can choose ```Accuracy``` as the model evaluation metric.\n",
    "\n",
    "**Evaluation Metric:** Accuracy\n",
    " $$Accuracy = \\frac{1}{n_{samples}}\\Sigma_{i=0}^{n_{samples}-1}1{\\Big({y_i - \\hat{y_i}}\\Big)}$$\n",
    " where \n",
    "> * $y_i$ : original value\n",
    "> * $\\hat{y_i}$ : predicted value\n",
    "> * $n$ : number of rows in the test data"
   ]
  },
  {
   "cell_type": "code",
   "execution_count": 6,
   "metadata": {
    "execution": {
     "iopub.execute_input": "2021-08-03T02:53:59.198280Z",
     "iopub.status.busy": "2021-08-03T02:53:59.196852Z",
     "iopub.status.idle": "2021-08-03T02:53:59.198996Z",
     "shell.execute_reply": "2021-08-03T02:53:59.199393Z",
     "shell.execute_reply.started": "2021-07-22T12:20:33.261737Z"
    },
    "papermill": {
     "duration": 0.030518,
     "end_time": "2021-08-03T02:53:59.199531",
     "exception": false,
     "start_time": "2021-08-03T02:53:59.169013",
     "status": "completed"
    },
    "tags": []
   },
   "outputs": [],
   "source": [
    "# Separate out the label column from the training features\n",
    "# This step makes it easier to handle the data for training \n",
    "\n",
    "# code below using python slicing\n",
    "# [:, 1:] - means - all rows, all columns except first column\n",
    "# .values converts the pandas dataframe into a numpy array\n",
    "\n",
    "train_x = train_images.iloc[:, 1:].values\n",
    "train_y = train_images.label.values\n",
    "\n",
    "test_x = test_images.iloc[:, 1:].values\n",
    "test_y = test_images.label.values"
   ]
  },
  {
   "cell_type": "code",
   "execution_count": 7,
   "metadata": {
    "execution": {
     "iopub.execute_input": "2021-08-03T02:53:59.249698Z",
     "iopub.status.busy": "2021-08-03T02:53:59.249123Z",
     "iopub.status.idle": "2021-08-03T02:53:59.253323Z",
     "shell.execute_reply": "2021-08-03T02:53:59.252860Z",
     "shell.execute_reply.started": "2021-07-22T12:20:33.281851Z"
    },
    "papermill": {
     "duration": 0.032133,
     "end_time": "2021-08-03T02:53:59.253443",
     "exception": false,
     "start_time": "2021-08-03T02:53:59.221310",
     "status": "completed"
    },
    "tags": []
   },
   "outputs": [],
   "source": [
    "# Assign the class names to a list\n",
    "# This helps better understand the class of predicted as well as the\n",
    "# displayed image\n",
    "\n",
    "class_names = ['T-shirt/top', 'Trouser', 'Pullover', 'Dress', 'Coat',\n",
    "               'Sandal', 'Shirt', 'Sneaker', 'Bag', 'Ankle boot']"
   ]
  },
  {
   "cell_type": "code",
   "execution_count": 8,
   "metadata": {
    "execution": {
     "iopub.execute_input": "2021-08-03T02:53:59.341114Z",
     "iopub.status.busy": "2021-08-03T02:53:59.339648Z",
     "iopub.status.idle": "2021-08-03T02:54:00.524227Z",
     "shell.execute_reply": "2021-08-03T02:54:00.523763Z",
     "shell.execute_reply.started": "2021-07-22T12:20:33.298217Z"
    },
    "papermill": {
     "duration": 1.247118,
     "end_time": "2021-08-03T02:54:00.524344",
     "exception": false,
     "start_time": "2021-08-03T02:53:59.277226",
     "status": "completed"
    },
    "tags": []
   },
   "outputs": [
    {
     "data": {
      "image/png": "[encoded data removed]",
      "text/plain": [
       "<Figure size 720x720 with 25 Axes>"
      ]
     },
     "metadata": {},
     "output_type": "display_data"
    }
   ],
   "source": [
    "# Code for visualizing 25 images in the dataset\n",
    "# It is always important to frequently visualize and validate the data before training the model\n",
    "\n",
    "plt.figure(figsize=(10,10)) # create an empty figure\n",
    "for i in range(25): # loop through first 25 rows\n",
    "    plt.subplot(5,5,i+1) # create a 5x5 subplot and iterate through each\n",
    "    plt.xticks([]) # removing the ticks on x-axis\n",
    "    plt.yticks([]) # removing the ticks on y-axis\n",
    "    plt.grid(False) # disabling the grid\n",
    "    \n",
    "    # before plotting the image\n",
    "    # the image is reshape into 28x28 shape\n",
    "    # this is because the original data is a single 1d array with 784 columns \n",
    "    # each indicating a pixel value\n",
    "    \n",
    "    plt.imshow(train_x[i].reshape(28, 28)) \n",
    "    plt.xlabel(class_names[train_y[i]]) # assigning the labels\n",
    "plt.show() "
   ]
  },
  {
   "cell_type": "code",
   "execution_count": 9,
   "metadata": {
    "execution": {
     "iopub.execute_input": "2021-08-03T02:54:00.596317Z",
     "iopub.status.busy": "2021-08-03T02:54:00.595066Z",
     "iopub.status.idle": "2021-08-03T02:54:00.773318Z",
     "shell.execute_reply": "2021-08-03T02:54:00.773795Z",
     "shell.execute_reply.started": "2021-07-22T12:20:35.280857Z"
    },
    "papermill": {
     "duration": 0.223437,
     "end_time": "2021-08-03T02:54:00.773936",
     "exception": false,
     "start_time": "2021-08-03T02:54:00.550499",
     "status": "completed"
    },
    "tags": []
   },
   "outputs": [
    {
     "data": {
      "image/png": "[encoded data removed]",
      "text/plain": [
       "<Figure size 432x288 with 2 Axes>"
      ]
     },
     "metadata": {
      "needs_background": "light"
     },
     "output_type": "display_data"
    }
   ],
   "source": [
    "# Using the helper function defined earlier\n",
    "plot_sample(train_x, 0)"
   ]
  },
  {
   "cell_type": "markdown",
   "metadata": {
    "execution": {
     "iopub.execute_input": "2021-07-15T10:12:38.209799Z",
     "iopub.status.busy": "2021-07-15T10:12:38.209444Z",
     "iopub.status.idle": "2021-07-15T10:12:38.217958Z",
     "shell.execute_reply": "2021-07-15T10:12:38.216772Z",
     "shell.execute_reply.started": "2021-07-15T10:12:38.209766Z"
    },
    "papermill": {
     "duration": 0.027515,
     "end_time": "2021-08-03T02:54:00.826377",
     "exception": false,
     "start_time": "2021-08-03T02:54:00.798862",
     "status": "completed"
    },
    "tags": []
   },
   "source": [
    "**Rescale/Normalize the images**\n",
    "\n",
    "**Why**❓\n",
    "\n",
    "- *The above figure shows a colorbar going from 0 to 255. The highest value is 255. It's always a best approach to rescale/normalize the data before feeding it to neural networks.<br> Normalizing the data, speeds up learning and leads to faster convergence of the learning algorithm.*"
   ]
  },
  {
   "cell_type": "code",
   "execution_count": 10,
   "metadata": {
    "execution": {
     "iopub.execute_input": "2021-08-03T02:54:00.882595Z",
     "iopub.status.busy": "2021-08-03T02:54:00.881585Z",
     "iopub.status.idle": "2021-08-03T02:54:01.239537Z",
     "shell.execute_reply": "2021-08-03T02:54:01.239062Z",
     "shell.execute_reply.started": "2021-07-22T12:20:35.524392Z"
    },
    "papermill": {
     "duration": 0.386522,
     "end_time": "2021-08-03T02:54:01.239670",
     "exception": false,
     "start_time": "2021-08-03T02:54:00.853148",
     "status": "completed"
    },
    "tags": []
   },
   "outputs": [
    {
     "name": "stdout",
     "output_type": "stream",
     "text": [
      "Sample image after Scaling\n"
     ]
    },
    {
     "data": {
      "image/png": "[encoded data removed]",
      "text/plain": [
       "<Figure size 432x288 with 2 Axes>"
      ]
     },
     "metadata": {
      "needs_background": "light"
     },
     "output_type": "display_data"
    }
   ],
   "source": [
    "train_x = train_x / 255.0\n",
    "test_x = test_x / 255.0\n",
    "\n",
    "print(\"Sample image after Scaling\")\n",
    "plot_sample(train_x, 0)"
   ]
  },
  {
   "cell_type": "markdown",
   "metadata": {
    "papermill": {
     "duration": 0.02813,
     "end_time": "2021-08-03T02:54:01.297122",
     "exception": false,
     "start_time": "2021-08-03T02:54:01.268992",
     "status": "completed"
    },
    "tags": []
   },
   "source": [
    "✔️ The scaled image, has a mean close to 0."
   ]
  },
  {
   "cell_type": "markdown",
   "metadata": {
    "papermill": {
     "duration": 0.025123,
     "end_time": "2021-08-03T02:54:01.347783",
     "exception": false,
     "start_time": "2021-08-03T02:54:01.322660",
     "status": "completed"
    },
    "tags": []
   },
   "source": [
    "**Creating a validation set**\n",
    "\n",
    "**Why**❓\n",
    "\n",
    "- *While training a machine learning model, it is a good approach to evaluate the model side-by-side against a set of unseen data.<br> This set used for validation is called a validation set. Here we consider 20% of the training data as the validation set. <br>There are techniques like K-Fold, Stratified K-fold.etc which can be used to create a batch of training and validation samples*"
   ]
  },
  {
   "cell_type": "code",
   "execution_count": 11,
   "metadata": {
    "execution": {
     "iopub.execute_input": "2021-08-03T02:54:01.410347Z",
     "iopub.status.busy": "2021-08-03T02:54:01.409267Z",
     "iopub.status.idle": "2021-08-03T02:54:01.953000Z",
     "shell.execute_reply": "2021-08-03T02:54:01.952531Z",
     "shell.execute_reply.started": "2021-07-22T12:25:08.467661Z"
    },
    "papermill": {
     "duration": 0.576982,
     "end_time": "2021-08-03T02:54:01.953129",
     "exception": false,
     "start_time": "2021-08-03T02:54:01.376147",
     "status": "completed"
    },
    "tags": []
   },
   "outputs": [],
   "source": [
    "# using the train_test_split function from scikit-learn\n",
    "# specifying a test size of 20%\n",
    "train_x, val_x, train_y, val_y = train_test_split(train_x, train_y, test_size=0.2)"
   ]
  },
  {
   "cell_type": "markdown",
   "metadata": {
    "papermill": {
     "duration": 0.025471,
     "end_time": "2021-08-03T02:54:02.005166",
     "exception": false,
     "start_time": "2021-08-03T02:54:01.979695",
     "status": "completed"
    },
    "tags": []
   },
   "source": [
    "## Baseline Model - Neural Network (2 layers) 🧠\n",
    "\n",
    "*It's always good to start with a simple base model. This ensures that we have a working framework which can later be *modified to improve the evaluation metric.* \n",
    "*At later stages:*\n",
    " - *Changes to the data include implementing data augmentation techniques*\n",
    " - *Changes to the model include trying out different model architectures by changing the layers*\n",
    " \n",
    "**For the baseline model** *we will be using a Flatten layer and two Dense layers. With a softmax activation at the final layer as we need the output probability of each class.*\n",
    " - ```Flatten layer``` - *transforms the image to a full connected 1-d array of 28x28 = 784 pixels*\n",
    " - ```Dense Layer``` - *Fully connected layer*"
   ]
  },
  {
   "cell_type": "code",
   "execution_count": 12,
   "metadata": {
    "execution": {
     "iopub.execute_input": "2021-08-03T02:54:02.066315Z",
     "iopub.status.busy": "2021-08-03T02:54:02.065774Z",
     "iopub.status.idle": "2021-08-03T02:54:03.962638Z",
     "shell.execute_reply": "2021-08-03T02:54:03.962097Z",
     "shell.execute_reply.started": "2021-07-22T12:57:23.315728Z"
    },
    "papermill": {
     "duration": 1.929384,
     "end_time": "2021-08-03T02:54:03.962788",
     "exception": false,
     "start_time": "2021-08-03T02:54:02.033404",
     "status": "completed"
    },
    "tags": []
   },
   "outputs": [],
   "source": [
    "# keras Sequential allows us to stack different layers of \n",
    "# the model architecture\n",
    "model = Sequential([\n",
    "    Flatten(),\n",
    "    Dense(128, activation='relu'),\n",
    "    Dense(10, activation='softmax') # 10 units as we have 10 output classes, softmax activation as we need the probability output\n",
    "])"
   ]
  },
  {
   "cell_type": "markdown",
   "metadata": {
    "papermill": {
     "duration": 0.026876,
     "end_time": "2021-08-03T02:54:04.016987",
     "exception": false,
     "start_time": "2021-08-03T02:54:03.990111",
     "status": "completed"
    },
    "tags": []
   },
   "source": [
    "- *After defining the model we have to compile the model.*\n",
    "- *Optimizer decides the technique to be used for adjusting the weights and bias of the learning algorithm.*\n",
    "- *Here we use an ```ADAM(Adaptive Moment Estimation)``` optimizer.*\n",
    "- *loss = ```SparseCategoricalCrossentropy``` - calculates cross entropy loss between predicted and actual values*"
   ]
  },
  {
   "cell_type": "code",
   "execution_count": 13,
   "metadata": {
    "execution": {
     "iopub.execute_input": "2021-08-03T02:54:04.084805Z",
     "iopub.status.busy": "2021-08-03T02:54:04.084226Z",
     "iopub.status.idle": "2021-08-03T02:54:04.092395Z",
     "shell.execute_reply": "2021-08-03T02:54:04.091878Z",
     "shell.execute_reply.started": "2021-07-22T12:57:29.799877Z"
    },
    "papermill": {
     "duration": 0.046142,
     "end_time": "2021-08-03T02:54:04.092516",
     "exception": false,
     "start_time": "2021-08-03T02:54:04.046374",
     "status": "completed"
    },
    "tags": []
   },
   "outputs": [],
   "source": [
    "model.compile(optimizer='adam',\n",
    "              loss=SparseCategoricalCrossentropy(from_logits=True),\n",
    "              metrics=['accuracy'])"
   ]
  },
  {
   "cell_type": "markdown",
   "metadata": {
    "papermill": {
     "duration": 0.027039,
     "end_time": "2021-08-03T02:54:04.145263",
     "exception": false,
     "start_time": "2021-08-03T02:54:04.118224",
     "status": "completed"
    },
    "tags": []
   },
   "source": [
    "**Reshape the data before fitting the model**\n",
    "\n",
    "**Why**❓\n",
    "\n",
    "- *The model expects a ```4D Tensor``` as input*\n",
    "- *Hence we have to reshape the training data.*\n",
    "- *At present the training data has 784 columns each containing the pixel values*\n",
    "- *By reshaping we convert it to a format = (#of samples, img_rows, img_cols, #of channels)*\n",
    "- *i.e. (60000, 28, 28, 1)*"
   ]
  },
  {
   "cell_type": "code",
   "execution_count": 14,
   "metadata": {
    "execution": {
     "iopub.execute_input": "2021-08-03T02:54:04.204809Z",
     "iopub.status.busy": "2021-08-03T02:54:04.204181Z",
     "iopub.status.idle": "2021-08-03T02:54:34.374393Z",
     "shell.execute_reply": "2021-08-03T02:54:34.375104Z",
     "shell.execute_reply.started": "2021-07-22T13:03:37.634869Z"
    },
    "papermill": {
     "duration": 30.200782,
     "end_time": "2021-08-03T02:54:34.375313",
     "exception": false,
     "start_time": "2021-08-03T02:54:04.174531",
     "status": "completed"
    },
    "tags": []
   },
   "outputs": [
    {
     "name": "stdout",
     "output_type": "stream",
     "text": [
      "Epoch 1/10\n",
      "1500/1500 [==============================] - 2s 1ms/step - loss: 1.6892 - accuracy: 0.7817 - val_loss: 1.6503 - val_accuracy: 0.8152\n",
      "Epoch 2/10\n",
      "1500/1500 [==============================] - 2s 1ms/step - loss: 1.6274 - accuracy: 0.8366 - val_loss: 1.6232 - val_accuracy: 0.8417\n",
      "Epoch 3/10\n",
      "1500/1500 [==============================] - 2s 1ms/step - loss: 1.6138 - accuracy: 0.8489 - val_loss: 1.6136 - val_accuracy: 0.8480\n",
      "Epoch 4/10\n",
      "1500/1500 [==============================] - 2s 1ms/step - loss: 1.6080 - accuracy: 0.8542 - val_loss: 1.6054 - val_accuracy: 0.8576\n",
      "Epoch 5/10\n",
      "1500/1500 [==============================] - 2s 1ms/step - loss: 1.6022 - accuracy: 0.8603 - val_loss: 1.6099 - val_accuracy: 0.8522\n",
      "Epoch 6/10\n",
      "1500/1500 [==============================] - 2s 1ms/step - loss: 1.5954 - accuracy: 0.8669 - val_loss: 1.5994 - val_accuracy: 0.8623\n",
      "Epoch 7/10\n",
      "1500/1500 [==============================] - 2s 1ms/step - loss: 1.5936 - accuracy: 0.8689 - val_loss: 1.6053 - val_accuracy: 0.8551\n",
      "Epoch 8/10\n",
      "1500/1500 [==============================] - 2s 1ms/step - loss: 1.5885 - accuracy: 0.8739 - val_loss: 1.5944 - val_accuracy: 0.8677\n",
      "Epoch 9/10\n",
      "1500/1500 [==============================] - 2s 1ms/step - loss: 1.5847 - accuracy: 0.8771 - val_loss: 1.5943 - val_accuracy: 0.8676\n",
      "Epoch 10/10\n",
      "1500/1500 [==============================] - 2s 1ms/step - loss: 1.5817 - accuracy: 0.8796 - val_loss: 1.5895 - val_accuracy: 0.8715\n"
     ]
    }
   ],
   "source": [
    "# the model metrics and training performance is captured \n",
    "# in variable model_history\n",
    "model1_history = model.fit(train_x.reshape(train_x.shape[0], 28, 28, 1), \n",
    "                    train_y, \n",
    "                    epochs=10,\n",
    "                    validation_data=(val_x.reshape(val_x.shape[0], 28, 28, 1), val_y),\n",
    "                   )"
   ]
  },
  {
   "cell_type": "markdown",
   "metadata": {
    "papermill": {
     "duration": 0.146336,
     "end_time": "2021-08-03T02:54:34.672178",
     "exception": false,
     "start_time": "2021-08-03T02:54:34.525842",
     "status": "completed"
    },
    "tags": []
   },
   "source": [
    "- *The baseline model has 90% training set accuracy and 88% validation set accuracy*\n",
    "- *This accuracy for a simple network with just 10 epochs of training is considerably good. However, let's add more layers and try improving the model*"
   ]
  },
  {
   "cell_type": "code",
   "execution_count": 15,
   "metadata": {
    "execution": {
     "iopub.execute_input": "2021-08-03T02:54:34.982109Z",
     "iopub.status.busy": "2021-08-03T02:54:34.981525Z",
     "iopub.status.idle": "2021-08-03T02:54:35.377444Z",
     "shell.execute_reply": "2021-08-03T02:54:35.377011Z",
     "shell.execute_reply.started": "2021-07-22T13:06:07.823324Z"
    },
    "papermill": {
     "duration": 0.551436,
     "end_time": "2021-08-03T02:54:35.377566",
     "exception": false,
     "start_time": "2021-08-03T02:54:34.826130",
     "status": "completed"
    },
    "tags": []
   },
   "outputs": [
    {
     "name": "stdout",
     "output_type": "stream",
     "text": [
      "('Failed to import pydot. You must `pip install pydot` and install graphviz (https://graphviz.gitlab.io/download/), ', 'for `pydotprint` to work.')\n"
     ]
    }
   ],
   "source": [
    "# Plotting the model architecture\n",
    "#plot_model(model)"
   ]
  },
  {
   "cell_type": "code",
   "execution_count": 16,
   "metadata": {
    "execution": {
     "iopub.execute_input": "2021-08-03T02:54:35.715611Z",
     "iopub.status.busy": "2021-08-03T02:54:35.703495Z",
     "iopub.status.idle": "2021-08-03T02:54:36.033892Z",
     "shell.execute_reply": "2021-08-03T02:54:36.034551Z",
     "shell.execute_reply.started": "2021-07-22T13:07:37.249303Z"
    },
    "papermill": {
     "duration": 0.506969,
     "end_time": "2021-08-03T02:54:36.034778",
     "exception": false,
     "start_time": "2021-08-03T02:54:35.527809",
     "status": "completed"
    },
    "tags": []
   },
   "outputs": [
    {
     "data": {
      "image/png": "[encoded data removed]",
      "text/plain": [
       "<Figure size 432x288 with 1 Axes>"
      ]
     },
     "metadata": {
      "needs_background": "light"
     },
     "output_type": "display_data"
    },
    {
     "data": {
      "image/png": "[encoded data removed]",
      "text/plain": [
       "<Figure size 432x288 with 1 Axes>"
      ]
     },
     "metadata": {
      "needs_background": "light"
     },
     "output_type": "display_data"
    }
   ],
   "source": [
    "acc = model1_history.history['accuracy']\n",
    "val_acc = model1_history.history['val_accuracy']\n",
    "loss = model1_history.history['loss']\n",
    "val_loss = model1_history.history['val_loss']\n",
    "\n",
    "epochs = range(len(acc))\n",
    "\n",
    "plt.plot(epochs, acc, 'r', label='Training accuracy')\n",
    "plt.plot(epochs, val_acc, 'b', label='Validation accuracy')\n",
    "plt.title('Training and validation accuracy')\n",
    "\n",
    "plt.figure()\n",
    "\n",
    "plt.plot(epochs, loss, 'r', label='Training Loss')\n",
    "plt.plot(epochs, val_loss, 'b', label='Validation Loss')\n",
    "plt.title('Training and validation loss')\n",
    "plt.legend()\n",
    "\n",
    "plt.show()"
   ]
  },
  {
   "cell_type": "code",
   "execution_count": 17,
   "metadata": {
    "execution": {
     "iopub.execute_input": "2021-08-03T02:54:36.469353Z",
     "iopub.status.busy": "2021-08-03T02:54:36.468453Z",
     "iopub.status.idle": "2021-08-03T02:54:37.201554Z",
     "shell.execute_reply": "2021-08-03T02:54:37.202103Z",
     "shell.execute_reply.started": "2021-07-22T13:11:42.051465Z"
    },
    "papermill": {
     "duration": 0.919098,
     "end_time": "2021-08-03T02:54:37.202303",
     "exception": false,
     "start_time": "2021-08-03T02:54:36.283205",
     "status": "completed"
    },
    "tags": []
   },
   "outputs": [
    {
     "name": "stdout",
     "output_type": "stream",
     "text": [
      "313/313 [==============================] - 0s 1ms/step - loss: 1.5889 - accuracy: 0.8727\n",
      "\n",
      "Test accuracy: 0.8726999759674072\n"
     ]
    }
   ],
   "source": [
    "# Evalution on the test set\n",
    "test_loss, test_acc = model.evaluate(test_x.reshape(test_x.shape[0], 28, 28, 1), test_y)\n",
    "print('\\nTest accuracy:', test_acc)"
   ]
  },
  {
   "cell_type": "markdown",
   "metadata": {
    "papermill": {
     "duration": 0.153728,
     "end_time": "2021-08-03T02:54:37.508561",
     "exception": false,
     "start_time": "2021-08-03T02:54:37.354833",
     "status": "completed"
    },
    "tags": []
   },
   "source": [
    "### Model Inferencing 🎯\n",
    "\n",
    "- *It is important to validate the predictions of the model*\n",
    "- *This acts as a feedback loop, in tuning the model.*\n",
    "\n",
    "Choose random samples and compare the predicted value with the ground truth."
   ]
  },
  {
   "cell_type": "code",
   "execution_count": 18,
   "metadata": {
    "execution": {
     "iopub.execute_input": "2021-08-03T02:54:37.842041Z",
     "iopub.status.busy": "2021-08-03T02:54:37.841032Z",
     "iopub.status.idle": "2021-08-03T02:54:37.969573Z",
     "shell.execute_reply": "2021-08-03T02:54:37.969002Z",
     "shell.execute_reply.started": "2021-07-22T13:11:46.59602Z"
    },
    "papermill": {
     "duration": 0.308582,
     "end_time": "2021-08-03T02:54:37.969744",
     "exception": false,
     "start_time": "2021-08-03T02:54:37.661162",
     "status": "completed"
    },
    "tags": []
   },
   "outputs": [
    {
     "data": {
      "image/png": "[encoded data removed]",
      "text/plain": [
       "<Figure size 432x288 with 1 Axes>"
      ]
     },
     "metadata": {},
     "output_type": "display_data"
    },
    {
     "name": "stdout",
     "output_type": "stream",
     "text": [
      "Actual Value:  Ankle boot\n",
      "Model Prediction:  Ankle boot\n"
     ]
    }
   ],
   "source": [
    "predict_n_validate_individual_samples(100)"
   ]
  },
  {
   "cell_type": "markdown",
   "metadata": {
    "papermill": {
     "duration": 0.152078,
     "end_time": "2021-08-03T02:54:38.276973",
     "exception": false,
     "start_time": "2021-08-03T02:54:38.124895",
     "status": "completed"
    },
    "tags": []
   },
   "source": [
    "## Let's add a Convolution Layer, Pooling Layer and Dropout 🧠\n",
    "\n",
    "*To improve the model we can add a Convolution layer and Pooling Layer* \n",
    " \n",
    "**For the baseline model\n",
    " - ```Convolution layer``` - *Applies mathematical convolution over image and thus helps the neural network focus on specific features in the images.*\n",
    " - ```Pooling Layer``` - *Pooling helps reduce the number of trainable parameters in the image, without compromising the information contained in each pixel. <br>There are different approaches to Pooling, we will use MaxPooling where each output will be MAX of a particular region.*\n",
    " - ```Dropout``` - *Dropout eliminates random nodes and acts as a regularizer. Adding a dropout layer can help reduce overfitting.*"
   ]
  },
  {
   "cell_type": "code",
   "execution_count": 19,
   "metadata": {
    "execution": {
     "iopub.execute_input": "2021-08-03T02:54:38.598470Z",
     "iopub.status.busy": "2021-08-03T02:54:38.597935Z",
     "iopub.status.idle": "2021-08-03T02:55:23.004145Z",
     "shell.execute_reply": "2021-08-03T02:55:23.003626Z",
     "shell.execute_reply.started": "2021-07-22T13:34:33.09281Z"
    },
    "papermill": {
     "duration": 44.573101,
     "end_time": "2021-08-03T02:55:23.004272",
     "exception": false,
     "start_time": "2021-08-03T02:54:38.431171",
     "status": "completed"
    },
    "tags": []
   },
   "outputs": [
    {
     "name": "stdout",
     "output_type": "stream",
     "text": [
      "Epoch 1/10\n",
      "1500/1500 [==============================] - 20s 14ms/step - loss: 1.7109 - accuracy: 0.7529 - val_loss: 1.6589 - val_accuracy: 0.8035\n",
      "Epoch 2/10\n",
      "1500/1500 [==============================] - 21s 14ms/step - loss: 1.6554 - accuracy: 0.8065 - val_loss: 1.6490 - val_accuracy: 0.8128\n",
      "Epoch 3/10\n",
      "1500/1500 [==============================] - 20s 13ms/step - loss: 1.6426 - accuracy: 0.8190 - val_loss: 1.6371 - val_accuracy: 0.8246\n",
      "Epoch 4/10\n",
      "1500/1500 [==============================] - 20s 13ms/step - loss: 1.6367 - accuracy: 0.8247 - val_loss: 1.6335 - val_accuracy: 0.8285\n",
      "Epoch 5/10\n",
      "1500/1500 [==============================] - 20s 13ms/step - loss: 1.6295 - accuracy: 0.8321 - val_loss: 1.6336 - val_accuracy: 0.8279\n",
      "Epoch 6/10\n",
      "1500/1500 [==============================] - 19s 13ms/step - loss: 1.6254 - accuracy: 0.8355 - val_loss: 1.6310 - val_accuracy: 0.8295\n",
      "Epoch 7/10\n",
      "1500/1500 [==============================] - 19s 13ms/step - loss: 1.6214 - accuracy: 0.8399 - val_loss: 1.6272 - val_accuracy: 0.8338\n",
      "Epoch 8/10\n",
      "1500/1500 [==============================] - 20s 13ms/step - loss: 1.6188 - accuracy: 0.8422 - val_loss: 1.6254 - val_accuracy: 0.8348\n",
      "Epoch 9/10\n",
      "1500/1500 [==============================] - 19s 13ms/step - loss: 1.6154 - accuracy: 0.8457 - val_loss: 1.6270 - val_accuracy: 0.8332\n",
      "Epoch 10/10\n",
      "1500/1500 [==============================] - 19s 13ms/step - loss: 1.5832 - accuracy: 0.8782 - val_loss: 1.5657 - val_accuracy: 0.8962\n"
     ]
    }
   ],
   "source": [
    "model2 = Sequential([\n",
    "    Conv2D(filters=32, kernel_size=3),\n",
    "    MaxPooling2D((2, 2)),\n",
    "    Dropout(0.2),\n",
    "    Flatten(),\n",
    "    Dense(128, activation='relu'),\n",
    "    Dense(10, activation='softmax') \n",
    "])\n",
    "\n",
    "model2.compile(optimizer='adam',\n",
    "              loss=SparseCategoricalCrossentropy(from_logits=True),\n",
    "              metrics=['accuracy'])\n",
    "\n",
    "model2_history = model2.fit(train_x.reshape(train_x.shape[0], 28, 28, 1), \n",
    "                    train_y, \n",
    "                    epochs=10,\n",
    "                    validation_data=(val_x.reshape(val_x.shape[0], 28, 28, 1), val_y),\n",
    "                   )"
   ]
  },
  {
   "cell_type": "code",
   "execution_count": 20,
   "metadata": {
    "execution": {
     "iopub.execute_input": "2021-08-03T02:55:23.659135Z",
     "iopub.status.busy": "2021-08-03T02:55:23.658428Z",
     "iopub.status.idle": "2021-08-03T02:55:23.894621Z",
     "shell.execute_reply": "2021-08-03T02:55:23.893854Z",
     "shell.execute_reply.started": "2021-07-22T13:37:31.30565Z"
    },
    "papermill": {
     "duration": 0.574405,
     "end_time": "2021-08-03T02:55:23.894767",
     "exception": false,
     "start_time": "2021-08-03T02:55:23.320362",
     "status": "completed"
    },
    "tags": []
   },
   "outputs": [
    {
     "data": {
      "image/png": "[encoded data removed]",
      "text/plain": [
       "<Figure size 432x288 with 1 Axes>"
      ]
     },
     "metadata": {
      "needs_background": "light"
     },
     "output_type": "display_data"
    },
    {
     "data": {
      "image/png": "[encoded data removed]",
      "text/plain": [
       "<Figure size 432x288 with 1 Axes>"
      ]
     },
     "metadata": {
      "needs_background": "light"
     },
     "output_type": "display_data"
    }
   ],
   "source": [
    "acc = model2_history.history['accuracy']\n",
    "val_acc = model2_history.history['val_accuracy']\n",
    "loss = model2_history.history['loss']\n",
    "val_loss = model2_history.history['val_loss']\n",
    "\n",
    "epochs = range(len(acc))\n",
    "\n",
    "plt.plot(epochs, acc, 'r', label='Training accuracy')\n",
    "plt.plot(epochs, val_acc, 'b', label='Validation accuracy')\n",
    "plt.title('Training and validation accuracy')\n",
    "\n",
    "plt.figure()\n",
    "\n",
    "plt.plot(epochs, loss, 'r', label='Training Loss')\n",
    "plt.plot(epochs, val_loss, 'b', label='Validation Loss')\n",
    "plt.title('Training and validation loss')\n",
    "plt.legend()\n",
    "\n",
    "plt.show()"
   ]
  },
  {
   "cell_type": "code",
   "execution_count": 21,
   "metadata": {
    "execution": {
     "iopub.execute_input": "2021-08-03T02:55:24.538653Z",
     "iopub.status.busy": "2021-08-03T02:55:24.537764Z",
     "iopub.status.idle": "2021-08-03T02:55:25.581514Z",
     "shell.execute_reply": "2021-08-03T02:55:25.581965Z",
     "shell.execute_reply.started": "2021-07-22T13:37:56.189409Z"
    },
    "papermill": {
     "duration": 1.368854,
     "end_time": "2021-08-03T02:55:25.582114",
     "exception": false,
     "start_time": "2021-08-03T02:55:24.213260",
     "status": "completed"
    },
    "tags": []
   },
   "outputs": [
    {
     "name": "stdout",
     "output_type": "stream",
     "text": [
      "313/313 [==============================] - 1s 3ms/step - loss: 1.5631 - accuracy: 0.8978\n",
      "\n",
      "Test accuracy: 0.8978000283241272\n"
     ]
    }
   ],
   "source": [
    "# Evalution on the test set\n",
    "test_loss, test_acc = model2.evaluate(test_x.reshape(test_x.shape[0], 28, 28, 1), test_y)\n",
    "print('\\nTest accuracy:', test_acc)"
   ]
  },
  {
   "cell_type": "markdown",
   "metadata": {
    "execution": {
     "iopub.execute_input": "2021-07-22T13:26:36.938358Z",
     "iopub.status.busy": "2021-07-22T13:26:36.938013Z",
     "iopub.status.idle": "2021-07-22T13:27:31.664628Z",
     "shell.execute_reply": "2021-07-22T13:27:31.663509Z",
     "shell.execute_reply.started": "2021-07-22T13:26:36.938329Z"
    },
    "papermill": {
     "duration": 0.321377,
     "end_time": "2021-08-03T02:55:26.227675",
     "exception": false,
     "start_time": "2021-08-03T02:55:25.906298",
     "status": "completed"
    },
    "tags": []
   },
   "source": [
    "\n",
    "\n"
   ]
  },
  {
   "cell_type": "code",
   "execution_count": null,
   "metadata": {
    "papermill": {
     "duration": 0.321315,
     "end_time": "2021-08-03T02:55:26.869706",
     "exception": false,
     "start_time": "2021-08-03T02:55:26.548391",
     "status": "completed"
    },
    "tags": []
   },
   "outputs": [],
   "source": []
  }
 ],
 "metadata": {
  "kernelspec": {
   "display_name": "Python 3",
   "language": "python",
   "name": "python3"
  },
  "language_info": {
   "codemirror_mode": {
    "name": "ipython",
    "version": 3
   },
   "file_extension": ".py",
   "mimetype": "text/x-python",
   "name": "python",
   "nbconvert_exporter": "python",
   "pygments_lexer": "ipython3",
   "version": "3.8.3"
  },
  "papermill": {
   "default_parameters": {},
   "duration": 108.7822,
   "end_time": "2021-08-03T02:55:29.512954",
   "environment_variables": {},
   "exception": null,
   "input_path": "__notebook__.ipynb",
   "output_path": "__notebook__.ipynb",
   "parameters": {},
   "start_time": "2021-08-03T02:53:40.730754",
   "version": "2.3.3"
  }
 },
 "nbformat": 4,
 "nbformat_minor": 5
}
